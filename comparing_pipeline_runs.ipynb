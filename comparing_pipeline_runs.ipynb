{
  "cells": [
    {
      "cell_type": "code",
      "execution_count": null,
      "metadata": {
        "id": "ur8xi4C7S06n"
      },
      "outputs": [],
      "source": [
        "# Copyright 2022 Google LLC\n",
        "#\n",
        "# Licensed under the Apache License, Version 2.0 (the \"License\");\n",
        "# you may not use this file except in compliance with the License.\n",
        "# You may obtain a copy of the License at\n",
        "#\n",
        "#     https://www.apache.org/licenses/LICENSE-2.0\n",
        "#\n",
        "# Unless required by applicable law or agreed to in writing, software\n",
        "# distributed under the License is distributed on an \"AS IS\" BASIS,\n",
        "# WITHOUT WARRANTIES OR CONDITIONS OF ANY KIND, either express or implied.\n",
        "# See the License for the specific language governing permissions and\n",
        "# limitations under the License."
      ]
    },
    {
      "cell_type": "markdown",
      "metadata": {
        "id": "JAPoU8Sm5E6e"
      },
      "source": [
        "# Compare pipeline runs with Vertex AI Experiments\n",
        "\n",
        "<table align=\"left\">\n",
        "\n",
        "  <td>\n",
        "    <a href=\"https://colab.research.google.com/github/GoogleCloudPlatform/vertex-ai-samples/blob/main/notebooks/official/experiments/comparing_pipeline_runs.ipynb\">\n",
        "      <img src=\"https://cloud.google.com/ml-engine/images/colab-logo-32px.png\" alt=\"Colab logo\"> Run in Colab\n",
        "    </a>\n",
        "  </td>\n",
        "  <td>\n",
        "    <a href=\"https://github.com/GoogleCloudPlatform/vertex-ai-samples/blob/main/notebooks/official/experiments/comparing_pipeline_runs.ipynb\">\n",
        "      <img src=\"https://cloud.google.com/ml-engine/images/github-logo-32px.png\" alt=\"GitHub logo\">\n",
        "      View on GitHub\n",
        "    </a>\n",
        "  </td>\n",
        "  <td>\n",
        "    <a href=\"https://console.cloud.google.com/vertex-ai/workbench/deploy-notebook?download_url=https://raw.githubusercontent.com/GoogleCloudPlatform/vertex-ai-samples/main/notebooks/official/experiments/comparing_pipeline_runs.ipynb\">\n",
        "      <img src=\"https://lh3.googleusercontent.com/UiNooY4LUgW_oTvpsNhPpQzsstV5W8F7rYgxgGBD85cWJoLmrOzhVs_ksK_vgx40SHs7jCqkTkCk=e14-rj-sc0xffffff-h130-w32\" alt=\"Vertex AI logo\">\n",
        "      Open in Vertex AI Workbench\n",
        "    </a>\n",
        "  </td>                                                                                               \n",
        "</table>"
      ]
    },
    {
      "cell_type": "markdown",
      "metadata": {
        "id": "tvgnzT1CKxrO"
      },
      "source": [
        "## Overview\n",
        "\n",
        "Depending on the model life cycle of your data science team, you would like to experiment and track training pipeline runs and its associated parameters. You then want to compare the runs of these Pipelines to each other in order to figure out which has the best configuration for generating the model you plan to register in the Vertex AI Model Registry.\n",
        "\n",
        "Learn more about [Vertex AI Experiments](https://cloud.google.com/vertex-ai/docs/experiments/intro-vertex-ai-experiments) and [Vertex AI Pipelines](https://cloud.google.com/vertex-ai/docs/pipelines/introduction)."
      ]
    },
    {
      "cell_type": "markdown",
      "metadata": {
        "id": "d220917f1302"
      },
      "source": [
        "### Objective\n",
        "\n",
        "In this notebook, you learn how to use Vertex AI Experiments to log a pipeline job and then compare different pipeline jobs.\n",
        "\n",
        "This tutorial uses the following Google Cloud ML services and resources:\n",
        "\n",
        "- Vertex AI Pipelines\n",
        "- Vertex AI Experiments\n",
        "\n",
        "The steps performed include:\n",
        "\n",
        "* Formalize a training component\n",
        "* Build a training pipeline\n",
        "* Run several Pipeline jobs and log their results\n",
        "* Compare different Pipeline jobs"
      ]
    },
    {
      "cell_type": "markdown",
      "metadata": {
        "id": "263933842022"
      },
      "source": [
        "### Dataset\n",
        "\n",
        "The dataset used for this tutorial is the [Iris dataset](https://www.tensorflow.org/datasets/catalog/iris) from [TensorFlow Datasets](https://www.tensorflow.org/datasets/catalog/overview). This dataset doesn't require any feature engineering. The version of the dataset used in this tutorial is stored in a public Cloud Storage bucket. The trained model predicts the type of Iris flower species from a class of three species: setosa, virginica, or versicolor.\n"
      ]
    },
    {
      "cell_type": "markdown",
      "metadata": {
        "id": "de76bb18c85b"
      },
      "source": [
        "### Costs\n",
        "\n",
        "This tutorial uses billable components of Google Cloud:\n",
        "\n",
        "* Vertex AI\n",
        "* Cloud Storage\n",
        "\n",
        "Learn about [Vertex AI\n",
        "pricing](https://cloud.google.com/vertex-ai/pricing) and [Cloud Storage\n",
        "pricing](https://cloud.google.com/storage/pricing), and use the [Pricing\n",
        "Calculator](https://cloud.google.com/products/calculator/)\n",
        "to generate a cost estimate based on your projected usage."
      ]
    },
    {
      "cell_type": "markdown",
      "metadata": {
        "id": "i7EUnXsZhAGF"
      },
      "source": [
        "### Install additional packages\n",
        "\n",
        "Install additional package dependencies not installed in your notebook environment."
      ]
    },
    {
      "cell_type": "code",
      "execution_count": 1,
      "metadata": {
        "id": "2b4ef9b72d43",
        "colab": {
          "base_uri": "https://localhost:8080/"
        },
        "outputId": "f801908a-234e-47e0-e101-71def974fc3c"
      },
      "outputs": [
        {
          "output_type": "stream",
          "name": "stdout",
          "text": [
            "\u001b[2K     \u001b[90m━━━━━━━━━━━━━━━━━━━━━━━━━━━━━━━━━━━━━━━━\u001b[0m \u001b[32m4.2/4.2 MB\u001b[0m \u001b[31m17.8 MB/s\u001b[0m eta \u001b[36m0:00:00\u001b[0m\n",
            "\u001b[2K     \u001b[90m━━━━━━━━━━━━━━━━━━━━━━━━━━━━━━━━━━━━━━━━\u001b[0m \u001b[32m138.3/138.3 kB\u001b[0m \u001b[31m9.4 MB/s\u001b[0m eta \u001b[36m0:00:00\u001b[0m\n",
            "\u001b[2K     \u001b[90m━━━━━━━━━━━━━━━━━━━━━━━━━━━━━━━━━━━━━━━━\u001b[0m \u001b[32m189.2/189.2 kB\u001b[0m \u001b[31m18.4 MB/s\u001b[0m eta \u001b[36m0:00:00\u001b[0m\n",
            "\u001b[2K     \u001b[90m━━━━━━━━━━━━━━━━━━━━━━━━━━━━━━━━━━━━━━━━\u001b[0m \u001b[32m48.8/48.8 kB\u001b[0m \u001b[31m5.0 MB/s\u001b[0m eta \u001b[36m0:00:00\u001b[0m\n",
            "\u001b[2K     \u001b[90m━━━━━━━━━━━━━━━━━━━━━━━━━━━━━━━━━━━━━━━━\u001b[0m \u001b[32m294.6/294.6 kB\u001b[0m \u001b[31m6.7 MB/s\u001b[0m eta \u001b[36m0:00:00\u001b[0m\n",
            "\u001b[2K     \u001b[90m━━━━━━━━━━━━━━━━━━━━━━━━━━━━━━━━━━━━━━━━\u001b[0m \u001b[32m53.5/53.5 kB\u001b[0m \u001b[31m3.7 MB/s\u001b[0m eta \u001b[36m0:00:00\u001b[0m\n",
            "\u001b[2K     \u001b[90m━━━━━━━━━━━━━━━━━━━━━━━━━━━━━━━━━━━━━━━━\u001b[0m \u001b[32m125.6/125.6 kB\u001b[0m \u001b[31m7.2 MB/s\u001b[0m eta \u001b[36m0:00:00\u001b[0m\n",
            "\u001b[2K     \u001b[90m━━━━━━━━━━━━━━━━━━━━━━━━━━━━━━━━━━━━━━━━\u001b[0m \u001b[32m232.6/232.6 kB\u001b[0m \u001b[31m8.9 MB/s\u001b[0m eta \u001b[36m0:00:00\u001b[0m\n",
            "\u001b[2K     \u001b[90m━━━━━━━━━━━━━━━━━━━━━━━━━━━━━━━━━━━━━━━━\u001b[0m \u001b[32m333.7/333.7 kB\u001b[0m \u001b[31m12.2 MB/s\u001b[0m eta \u001b[36m0:00:00\u001b[0m\n",
            "\u001b[2K     \u001b[90m━━━━━━━━━━━━━━━━━━━━━━━━━━━━━━━━━━━━━━━━\u001b[0m \u001b[32m2.5/2.5 MB\u001b[0m \u001b[31m12.7 MB/s\u001b[0m eta \u001b[36m0:00:00\u001b[0m\n",
            "\u001b[2K     \u001b[90m━━━━━━━━━━━━━━━━━━━━━━━━━━━━━━━━━━━━━━━━\u001b[0m \u001b[32m229.1/229.1 kB\u001b[0m \u001b[31m12.4 MB/s\u001b[0m eta \u001b[36m0:00:00\u001b[0m\n",
            "\u001b[2K     \u001b[90m━━━━━━━━━━━━━━━━━━━━━━━━━━━━━━━━━━━━━━━━\u001b[0m \u001b[32m62.6/62.6 kB\u001b[0m \u001b[31m3.3 MB/s\u001b[0m eta \u001b[36m0:00:00\u001b[0m\n",
            "\u001b[2K     \u001b[90m━━━━━━━━━━━━━━━━━━━━━━━━━━━━━━━━━━━━━━━━\u001b[0m \u001b[32m5.5/5.5 MB\u001b[0m \u001b[31m23.1 MB/s\u001b[0m eta \u001b[36m0:00:00\u001b[0m\n",
            "\u001b[2K     \u001b[90m━━━━━━━━━━━━━━━━━━━━━━━━━━━━━━━━━━━━━━━━\u001b[0m \u001b[32m181.3/181.3 kB\u001b[0m \u001b[31m9.3 MB/s\u001b[0m eta \u001b[36m0:00:00\u001b[0m\n",
            "\u001b[2K     \u001b[90m━━━━━━━━━━━━━━━━━━━━━━━━━━━━━━━━━━━━━━━━\u001b[0m \u001b[32m80.6/80.6 kB\u001b[0m \u001b[31m5.8 MB/s\u001b[0m eta \u001b[36m0:00:00\u001b[0m\n",
            "\u001b[2K     \u001b[90m━━━━━━━━━━━━━━━━━━━━━━━━━━━━━━━━━━━━━━━━\u001b[0m \u001b[32m229.9/229.9 kB\u001b[0m \u001b[31m10.4 MB/s\u001b[0m eta \u001b[36m0:00:00\u001b[0m\n",
            "\u001b[2K     \u001b[90m━━━━━━━━━━━━━━━━━━━━━━━━━━━━━━━━━━━━━━━━\u001b[0m \u001b[32m18.2/18.2 MB\u001b[0m \u001b[31m10.6 MB/s\u001b[0m eta \u001b[36m0:00:00\u001b[0m\n",
            "\u001b[2K     \u001b[90m━━━━━━━━━━━━━━━━━━━━━━━━━━━━━━━━━━━━━━━━\u001b[0m \u001b[32m84.9/84.9 kB\u001b[0m \u001b[31m7.4 MB/s\u001b[0m eta \u001b[36m0:00:00\u001b[0m\n",
            "\u001b[2K     \u001b[90m━━━━━━━━━━━━━━━━━━━━━━━━━━━━━━━━━━━━━━━━\u001b[0m \u001b[32m142.1/142.1 kB\u001b[0m \u001b[31m4.6 MB/s\u001b[0m eta \u001b[36m0:00:00\u001b[0m\n",
            "\u001b[2K     \u001b[90m━━━━━━━━━━━━━━━━━━━━━━━━━━━━━━━━━━━━━━━━\u001b[0m \u001b[32m61.6/61.6 kB\u001b[0m \u001b[31m5.1 MB/s\u001b[0m eta \u001b[36m0:00:00\u001b[0m\n",
            "\u001b[2K     \u001b[90m━━━━━━━━━━━━━━━━━━━━━━━━━━━━━━━━━━━━━━━━\u001b[0m \u001b[32m121.1/121.1 kB\u001b[0m \u001b[31m8.2 MB/s\u001b[0m eta \u001b[36m0:00:00\u001b[0m\n",
            "\u001b[2K     \u001b[90m━━━━━━━━━━━━━━━━━━━━━━━━━━━━━━━━━━━━━━━━\u001b[0m \u001b[32m163.8/163.8 kB\u001b[0m \u001b[31m15.7 MB/s\u001b[0m eta \u001b[36m0:00:00\u001b[0m\n",
            "\u001b[2K     \u001b[90m━━━━━━━━━━━━━━━━━━━━━━━━━━━━━━━━━━━━━━━━\u001b[0m \u001b[32m441.8/441.8 kB\u001b[0m \u001b[31m9.9 MB/s\u001b[0m eta \u001b[36m0:00:00\u001b[0m\n",
            "\u001b[?25h  Preparing metadata (setup.py) ... \u001b[?25l\u001b[?25hdone\n",
            "\u001b[2K     \u001b[90m━━━━━━━━━━━━━━━━━━━━━━━━━━━━━━━━━━━━━━━━\u001b[0m \u001b[32m63.4/63.4 kB\u001b[0m \u001b[31m9.3 MB/s\u001b[0m eta \u001b[36m0:00:00\u001b[0m\n",
            "\u001b[?25h  Preparing metadata (setup.py) ... \u001b[?25l\u001b[?25hdone\n",
            "\u001b[2K     \u001b[90m━━━━━━━━━━━━━━━━━━━━━━━━━━━━━━━━━━━━━━━━\u001b[0m \u001b[32m1.4/1.4 MB\u001b[0m \u001b[31m70.2 MB/s\u001b[0m eta \u001b[36m0:00:00\u001b[0m\n",
            "\u001b[2K     \u001b[90m━━━━━━━━━━━━━━━━━━━━━━━━━━━━━━━━━━━━━━━━\u001b[0m \u001b[32m54.5/54.5 kB\u001b[0m \u001b[31m7.9 MB/s\u001b[0m eta \u001b[36m0:00:00\u001b[0m\n",
            "\u001b[2K     \u001b[90m━━━━━━━━━━━━━━━━━━━━━━━━━━━━━━━━━━━━━━━━\u001b[0m \u001b[32m143.8/143.8 kB\u001b[0m \u001b[31m20.6 MB/s\u001b[0m eta \u001b[36m0:00:00\u001b[0m\n",
            "\u001b[?25h  Building wheel for kfp (setup.py) ... \u001b[?25l\u001b[?25hdone\n",
            "  Building wheel for kfp-server-api (setup.py) ... \u001b[?25l\u001b[?25hdone\n"
          ]
        }
      ],
      "source": [
        "! pip3 install --force-reinstall 'google-cloud-aiplatform>=1.15' -q --no-warn-conflicts\n",
        "! pip3 install kfp -q --no-warn-conflicts"
      ]
    },
    {
      "cell_type": "markdown",
      "metadata": {
        "id": "restart"
      },
      "source": [
        "### Colab only: Uncomment the following cell to restart the kernel."
      ]
    },
    {
      "cell_type": "code",
      "execution_count": 2,
      "metadata": {
        "id": "D-ZBOjErv5mM",
        "colab": {
          "base_uri": "https://localhost:8080/"
        },
        "outputId": "90b134c6-ff35-4d07-f1c1-f62e00c07786"
      },
      "outputs": [
        {
          "output_type": "execute_result",
          "data": {
            "text/plain": [
              "{'status': 'ok', 'restart': True}"
            ]
          },
          "metadata": {},
          "execution_count": 2
        }
      ],
      "source": [
        "# Automatically restart kernel after installs so that your environment can access the new packages\n",
        "import IPython\n",
        "\n",
        "app = IPython.Application.instance()\n",
        "app.kernel.do_shutdown(True)"
      ]
    },
    {
      "cell_type": "markdown",
      "metadata": {
        "id": "yfEglUHQk9S3"
      },
      "source": [
        "## Before you begin\n",
        "\n",
        "### Set your project ID\n",
        "\n",
        "**If you don't know your project ID**, try the following:\n",
        "* Run `gcloud config list`.\n",
        "* Run `gcloud projects list`.\n",
        "* See the support page: [Locate the project ID](https://support.google.com/googleapi/answer/7014113)"
      ]
    },
    {
      "cell_type": "code",
      "execution_count": 2,
      "metadata": {
        "id": "set_project_id",
        "colab": {
          "base_uri": "https://localhost:8080/"
        },
        "outputId": "7fd30c48-9293-46fd-dcbc-c397f5c502a9"
      },
      "outputs": [
        {
          "output_type": "stream",
          "name": "stdout",
          "text": [
            "Updated property [core/project].\n"
          ]
        }
      ],
      "source": [
        "PROJECT_ID = \"crypto-isotope-366706\"  # @param {type:\"string\"}\n",
        "\n",
        "# Set the project id\n",
        "! gcloud config set project {PROJECT_ID}"
      ]
    },
    {
      "cell_type": "markdown",
      "metadata": {
        "id": "region"
      },
      "source": [
        "#### Region\n",
        "\n",
        "You can also change the `REGION` variable used by Vertex AI. Learn more about [Vertex AI regions](https://cloud.google.com/vertex-ai/docs/general/locations)."
      ]
    },
    {
      "cell_type": "code",
      "execution_count": 3,
      "metadata": {
        "id": "BLR00iDM_Ks-"
      },
      "outputs": [],
      "source": [
        "REGION = \"us-central1\"  # @param {type: \"string\"}"
      ]
    },
    {
      "cell_type": "markdown",
      "metadata": {
        "id": "gcp_authenticate"
      },
      "source": [
        "### Authenticate your Google Cloud account\n",
        "\n",
        "Depending on your Jupyter environment, you may have to manually authenticate. Follow the relevant instructions below.\n",
        "\n",
        "**1. Vertex AI Workbench**\n",
        "* Do nothing as you are already authenticated.\n",
        "\n",
        "**2. Local JupyterLab instance, uncomment and run:**"
      ]
    },
    {
      "cell_type": "code",
      "execution_count": null,
      "metadata": {
        "id": "ce6043da7b33"
      },
      "outputs": [],
      "source": [
        "# ! gcloud auth login"
      ]
    },
    {
      "cell_type": "markdown",
      "metadata": {
        "id": "0367eac06a10"
      },
      "source": [
        "**3. Colab, uncomment and run:**"
      ]
    },
    {
      "cell_type": "code",
      "execution_count": 4,
      "metadata": {
        "id": "21ad4dbb4a61"
      },
      "outputs": [],
      "source": [
        "from google.colab import auth\n",
        "auth.authenticate_user()"
      ]
    },
    {
      "cell_type": "markdown",
      "metadata": {
        "id": "c13224697bfb"
      },
      "source": [
        "**4. Service account or other**\n",
        "* See how to grant Cloud Storage permissions to your service account at https://cloud.google.com/storage/docs/gsutil/commands/iam#ch-examples."
      ]
    },
    {
      "cell_type": "markdown",
      "metadata": {
        "id": "bucket:mbsdk"
      },
      "source": [
        "### Create a Cloud Storage bucket\n",
        "\n",
        "Create a storage bucket to store intermediate artifacts such as datasets."
      ]
    },
    {
      "cell_type": "code",
      "execution_count": 5,
      "metadata": {
        "id": "bucket"
      },
      "outputs": [],
      "source": [
        "BUCKET_URI = f\"gs://your-bucket-name-{PROJECT_ID}-unique\"  # @param {type:\"string\"}"
      ]
    },
    {
      "cell_type": "markdown",
      "metadata": {
        "id": "create_bucket"
      },
      "source": [
        "**Only if your bucket doesn't already exist**: Run the following cell to create your Cloud Storage bucket."
      ]
    },
    {
      "cell_type": "code",
      "execution_count": 7,
      "metadata": {
        "id": "j-E5rgmG_KtA",
        "colab": {
          "base_uri": "https://localhost:8080/"
        },
        "outputId": "bd1dbae3-1e0c-4535-c5f8-9966ccb0c4e4"
      },
      "outputs": [
        {
          "output_type": "stream",
          "name": "stdout",
          "text": [
            "Creating gs://your-bucket-name-crypto-isotope-366706-unique/...\n"
          ]
        }
      ],
      "source": [
        "! gsutil mb -l $REGION $BUCKET_URI"
      ]
    },
    {
      "cell_type": "markdown",
      "metadata": {
        "id": "b7e24e522bee"
      },
      "source": [
        "#### Service Account\n",
        "\n",
        "**If you don't know your service account**, try to get your service account using `gcloud` command by executing the second cell below."
      ]
    },
    {
      "cell_type": "code",
      "execution_count": 8,
      "metadata": {
        "id": "77b01a1fdbb4"
      },
      "outputs": [],
      "source": [
        "SERVICE_ACCOUNT = \"[your-service-account]\"  # @param {type:\"string\"}"
      ]
    },
    {
      "cell_type": "code",
      "execution_count": 9,
      "metadata": {
        "id": "121d7ca29426",
        "colab": {
          "base_uri": "https://localhost:8080/"
        },
        "outputId": "7a23abbf-ed82-4d9e-e62e-182d3d58a376"
      },
      "outputs": [
        {
          "output_type": "stream",
          "name": "stdout",
          "text": [
            "Service Account: 848384636885-compute@developer.gserviceaccount.com\n"
          ]
        }
      ],
      "source": [
        "import sys\n",
        "\n",
        "IS_COLAB = \"google.colab\" in sys.modules\n",
        "\n",
        "if (\n",
        "    SERVICE_ACCOUNT == \"\"\n",
        "    or SERVICE_ACCOUNT is None\n",
        "    or SERVICE_ACCOUNT == \"[your-service-account]\"\n",
        "):\n",
        "    # Get your service account from gcloud\n",
        "    if not IS_COLAB:\n",
        "        shell_output = !gcloud auth list 2>/dev/null\n",
        "        SERVICE_ACCOUNT = shell_output[2].replace(\"*\", \"\").strip()\n",
        "\n",
        "    if IS_COLAB:\n",
        "        shell_output = ! gcloud projects describe  $PROJECT_ID\n",
        "        project_number = shell_output[-1].split(\":\")[1].strip().replace(\"'\", \"\")\n",
        "        SERVICE_ACCOUNT = f\"{project_number}-compute@developer.gserviceaccount.com\"\n",
        "\n",
        "    print(\"Service Account:\", SERVICE_ACCOUNT)"
      ]
    },
    {
      "cell_type": "markdown",
      "metadata": {
        "id": "aa175e2960ac"
      },
      "source": [
        "#### Set service account access for Vertex AI Pipelines\n",
        "\n",
        "Run the following commands to grant your service account access to read and write pipeline artifacts in the bucket that you created in the previous step -- you only need to run these once per service account."
      ]
    },
    {
      "cell_type": "code",
      "execution_count": 10,
      "metadata": {
        "id": "f88cb0488c08"
      },
      "outputs": [],
      "source": [
        "! gsutil iam ch serviceAccount:{SERVICE_ACCOUNT}:roles/storage.objectCreator $BUCKET_URI\n",
        "\n",
        "! gsutil iam ch serviceAccount:{SERVICE_ACCOUNT}:roles/storage.objectViewer $BUCKET_URI"
      ]
    },
    {
      "cell_type": "markdown",
      "metadata": {
        "id": "fXUqOdIaLbjf"
      },
      "source": [
        "### Download training dataset\n"
      ]
    },
    {
      "cell_type": "code",
      "execution_count": 11,
      "metadata": {
        "id": "9fYX14c0LfmU",
        "colab": {
          "base_uri": "https://localhost:8080/"
        },
        "outputId": "23b4d2e7-191a-419e-d05e-dcfee839af08"
      },
      "outputs": [
        {
          "output_type": "stream",
          "name": "stdout",
          "text": [
            "Copying gs://cloud-samples-data/ai-platform/iris/classification/evaluate.csv [Content-Type=text/csv]...\n",
            "Copying gs://cloud-samples-data/ai-platform/iris/classification/train.csv [Content-Type=text/csv]...\n",
            "Copying gs://cloud-samples-data/ai-platform/iris/iris_data.csv [Content-Type=application/octet-stream]...\n",
            "Copying gs://cloud-samples-data/ai-platform/iris/iris_predict.csv [Content-Type=text/csv]...\n",
            "\\ [4 files][  5.4 KiB/  5.4 KiB]                                                \n",
            "==> NOTE: You are performing a sequence of gsutil operations that may\n",
            "run significantly faster if you instead use gsutil -m cp ... Please\n",
            "see the -m section under \"gsutil help options\" for further information\n",
            "about when gsutil -m can be advantageous.\n",
            "\n",
            "Copying gs://cloud-samples-data/ai-platform/iris/iris_target.csv [Content-Type=application/octet-stream]...\n",
            "Copying gs://cloud-samples-data/ai-platform/iris/iris_test.csv [Content-Type=text/csv]...\n",
            "Copying gs://cloud-samples-data/ai-platform/iris/iris_training.csv [Content-Type=text/csv]...\n",
            "\n",
            "Operation completed over 7 objects/8.4 KiB.                                      \n"
          ]
        }
      ],
      "source": [
        "DATASET_URI = \"gs://cloud-samples-data/ai-platform/iris\"\n",
        "\n",
        "!gsutil cp -r $DATASET_URI $BUCKET_URI"
      ]
    },
    {
      "cell_type": "markdown",
      "metadata": {
        "id": "XoEqT2Y4DJmf"
      },
      "source": [
        "### Import libraries and define constants"
      ]
    },
    {
      "cell_type": "code",
      "execution_count": 12,
      "metadata": {
        "id": "pRUOFELefqf1",
        "colab": {
          "base_uri": "https://localhost:8080/"
        },
        "outputId": "f15e4dde-5a24-4732-84ef-36ec53550ab5"
      },
      "outputs": [
        {
          "output_type": "stream",
          "name": "stderr",
          "text": [
            "<ipython-input-12-dee83d88e51f>:10: DeprecationWarning: The module `kfp.v2` is deprecated and will be removed in a futureversion. Please import directly from the `kfp` namespace, instead of `kfp.v2`.\n",
            "  import kfp.v2.compiler as compiler\n"
          ]
        }
      ],
      "source": [
        "import logging\n",
        "# General\n",
        "import os\n",
        "import time\n",
        "import uuid\n",
        "\n",
        "logger = logging.getLogger(\"logger\")\n",
        "logging.basicConfig(level=logging.INFO)\n",
        "\n",
        "import kfp.v2.compiler as compiler\n",
        "# Pipeline Experiments\n",
        "import kfp.v2.dsl as dsl\n",
        "# Vertex AI\n",
        "from google.cloud import aiplatform as vertex_ai\n",
        "from google.cloud.aiplatform_v1.types.pipeline_state import PipelineState\n",
        "from kfp.v2.dsl import Metrics, Model, Output, component"
      ]
    },
    {
      "cell_type": "code",
      "execution_count": 13,
      "metadata": {
        "id": "OAY0QKZD8qNP"
      },
      "outputs": [],
      "source": [
        "# Experiments\n",
        "TASK = \"classification\"\n",
        "MODEL_TYPE = \"xgboost\"\n",
        "EXPERIMENT_NAME = f\"{PROJECT_ID}-{TASK}-{MODEL_TYPE}-{uuid.uuid1()}\"\n",
        "\n",
        "# Pipeline\n",
        "PIPELINE_TEMPLATE_FILE = \"pipeline.json\"\n",
        "PIPELINE_URI = f\"{BUCKET_URI}/pipelines\"\n",
        "TRAIN_URI = f\"{BUCKET_URI}/iris/iris_data.csv\"\n",
        "LABEL_URI = f\"{BUCKET_URI}/iris/iris_target.csv\"\n",
        "MODEL_URI = f\"{BUCKET_URI}/model\""
      ]
    },
    {
      "cell_type": "markdown",
      "metadata": {
        "id": "inR70nh38PeK"
      },
      "source": [
        "### Initialize Vertex AI SDK for Python\n",
        "\n",
        "Initialize the Vertex AI SDK for Python for your project and corresponding bucket."
      ]
    },
    {
      "cell_type": "code",
      "execution_count": 14,
      "metadata": {
        "id": "Nz0nasrh8T3c"
      },
      "outputs": [],
      "source": [
        "vertex_ai.init(project=PROJECT_ID, staging_bucket=BUCKET_URI)"
      ]
    },
    {
      "cell_type": "markdown",
      "metadata": {
        "id": "container:training,prediction,xgboost"
      },
      "source": [
        "### Set pre-built containers\n",
        "\n",
        "Set the pre-built Docker container image for training and prediction.\n",
        "\n",
        "\n",
        "For the latest list, see [Pre-built containers for training](https://cloud.google.com/ai-platform-unified/docs/training/pre-built-containers).\n",
        "\n",
        "\n",
        "For the latest list, see [Pre-built containers for prediction](https://cloud.google.com/ai-platform-unified/docs/predictions/pre-built-containers)."
      ]
    },
    {
      "cell_type": "code",
      "execution_count": 15,
      "metadata": {
        "id": "XujRA5ueox9U"
      },
      "outputs": [],
      "source": [
        "TRAIN_IMAGE = vertex_ai.helpers.get_prebuilt_prediction_container_uri(\n",
        "    framework=\"xgboost\", framework_version=\"1.1\", accelerator=\"cpu\"\n",
        ")"
      ]
    },
    {
      "cell_type": "markdown",
      "metadata": {
        "id": "t1NLYz1R-KWv"
      },
      "source": [
        "## Formalize your training as pipeline component\n"
      ]
    },
    {
      "cell_type": "markdown",
      "metadata": {
        "id": "jnfKxpj0-Z0H"
      },
      "source": [
        "Before you start running your pipeline experiments, you have to formalize your training as pipeline component.\n",
        "\n",
        "To do that, build the pipeline by using the `kfp.v2.dsl.component` decorator to convert your training task into a pipeline component."
      ]
    },
    {
      "cell_type": "code",
      "execution_count": 16,
      "metadata": {
        "id": "jv_-vU46_eFN",
        "colab": {
          "base_uri": "https://localhost:8080/"
        },
        "outputId": "222a7eda-3324-4b4e-98a7-4a95e87527e6"
      },
      "outputs": [
        {
          "output_type": "stream",
          "name": "stderr",
          "text": [
            "/usr/local/lib/python3.10/dist-packages/kfp/dsl/component_decorator.py:119: FutureWarning: Python 3.7 has reached end-of-life. The default base_image used by the @dsl.component decorator will switch from 'python:3.7' to 'python:3.8' on April 23, 2024. To ensure your existing components work with versions of the KFP SDK released after that date, you should provide an explicit base_image argument and ensure your component works as intended on Python 3.8.\n",
            "  return component_factory.create_component_from_func(\n"
          ]
        }
      ],
      "source": [
        "@component(\n",
        "    packages_to_install=[\n",
        "        \"numpy==1.18.5\",\n",
        "        \"pandas==1.0.4\",\n",
        "        \"scikit-learn==0.23.1\",\n",
        "        \"xgboost==1.1.1\",\n",
        "    ]\n",
        ")\n",
        "def custom_trainer(\n",
        "    train_uri: str,\n",
        "    label_uri: str,\n",
        "    max_depth: int,\n",
        "    learning_rate: float,\n",
        "    boost_rounds: int,\n",
        "    model_uri: str,\n",
        "    metrics: Output[Metrics],\n",
        "    model_metadata: Output[Model],\n",
        "):\n",
        "\n",
        "    # import libraries\n",
        "    import logging\n",
        "    import uuid\n",
        "    from pathlib import Path as path\n",
        "\n",
        "    import pandas as pd\n",
        "    import xgboost as xgb\n",
        "    from sklearn.metrics import accuracy_score\n",
        "    from sklearn.model_selection import train_test_split\n",
        "\n",
        "    # variables\n",
        "    gs_prefix = \"gs://\"\n",
        "    gcsfuse_prefix = \"/gcs/\"\n",
        "    train_path = train_uri.replace(gs_prefix, gcsfuse_prefix)\n",
        "    label_path = label_uri.replace(gs_prefix, gcsfuse_prefix)\n",
        "    model_path = model_uri.replace(gs_prefix, gcsfuse_prefix)\n",
        "\n",
        "    def get_logger():\n",
        "        \"\"\"\n",
        "        Get the logger\n",
        "        \"\"\"\n",
        "        logger = logging.getLogger(__name__)\n",
        "        logger.setLevel(logging.INFO)\n",
        "        handler = logging.StreamHandler()\n",
        "        handler.setFormatter(\n",
        "            logging.Formatter(\"%(asctime)s - %(name)s - %(levelname)s - %(message)s\")\n",
        "        )\n",
        "        logger.addHandler(handler)\n",
        "        return logger\n",
        "\n",
        "    def get_data(\n",
        "        train_path: str, label_path: str\n",
        "    ) -> (xgb.DMatrix, pd.DataFrame, pd.DataFrame):\n",
        "        \"\"\"\n",
        "        Get the data\n",
        "        Args:\n",
        "            train_path: the path of the train data\n",
        "            label_path: the path of the label data\n",
        "        Returns:\n",
        "            the train data and the label data\n",
        "        \"\"\"\n",
        "        # Load data into pandas, then use `.values` to get NumPy arrays\n",
        "        data = pd.read_csv(train_path).values\n",
        "        labels = pd.read_csv(label_path).values\n",
        "\n",
        "        # Convert one-column 2D array into 1D array for use with XGBoost\n",
        "        labels = labels.reshape((labels.size,))\n",
        "        train_data, test_data, train_labels, test_labels = train_test_split(\n",
        "            data, labels, test_size=0.2, random_state=7\n",
        "        )\n",
        "\n",
        "        # Load data into DMatrix object\n",
        "        dtrain = xgb.DMatrix(train_data, label=train_labels)\n",
        "        return dtrain, test_data, test_labels\n",
        "\n",
        "    def train_model(max_depth: int, eta: int, boost_rounds, dtrain: xgb.DMatrix):\n",
        "        \"\"\"\n",
        "        Train the model\n",
        "        Args:\n",
        "            max_depth: the max depth of the model\n",
        "            eta: the eta of the model\n",
        "            boost_rounds: the boost rounds of the model\n",
        "            dtrain: the train data\n",
        "        Returns:\n",
        "            the trained model\n",
        "        \"\"\"\n",
        "        # Train XGBoost model\n",
        "        param = {\"max_depth\": max_depth, \"eta\": eta}\n",
        "        model = xgb.train(param, dtrain, num_boost_round=boost_rounds)\n",
        "        return model\n",
        "\n",
        "    def evaluate_model(model, test_data, test_labels):\n",
        "        \"\"\"\n",
        "        Evaluate the model\n",
        "        Args:\n",
        "            model: the trained model\n",
        "            test_data: the test data\n",
        "            test_labels: the test labels\n",
        "        Returns:\n",
        "            the accuracy of the model\n",
        "        \"\"\"\n",
        "        dtest = xgb.DMatrix(test_data)\n",
        "        pred = model.predict(dtest)\n",
        "        predictions = [round(value) for value in pred]\n",
        "        # Evaluate predictions\n",
        "        accuracy = accuracy_score(test_labels, predictions)\n",
        "        return accuracy\n",
        "\n",
        "    def save_model(model, model_path):\n",
        "        \"\"\"\n",
        "        Save the model\n",
        "        Args:\n",
        "            model: the trained model\n",
        "            model_path: the path of the model\n",
        "        \"\"\"\n",
        "        model_id = str(uuid.uuid1())\n",
        "        model_path = f\"{model_path}/{model_id}/model.bst\"\n",
        "        path(model_path).parent.mkdir(parents=True, exist_ok=True)\n",
        "        model.save_model(model_path)\n",
        "\n",
        "    # Main ----------------------------------------------\n",
        "\n",
        "    dtrain, test_data, test_labels = get_data(train_path, label_path)\n",
        "    model = train_model(max_depth, learning_rate, boost_rounds, dtrain)\n",
        "    accuracy = evaluate_model(model, test_data, test_labels)\n",
        "    save_model(model, model_path)\n",
        "\n",
        "    # Metadata ------------------------------------------\n",
        "    metrics.log_metric(\"accurancy\", accuracy)\n",
        "    model_metadata.uri = model_uri"
      ]
    },
    {
      "cell_type": "markdown",
      "metadata": {
        "id": "U1UiTZhkVoFM"
      },
      "source": [
        "## Build a pipeline\n",
        "\n",
        "Below code will perform creating pipelineJob in associated project."
      ]
    },
    {
      "cell_type": "code",
      "execution_count": 17,
      "metadata": {
        "id": "9Gfr6pNLU-dB"
      },
      "outputs": [],
      "source": [
        "@dsl.pipeline(name=\"custom-training-pipeline\")\n",
        "def pipeline(\n",
        "    train_uri: str,\n",
        "    label_uri: str,\n",
        "    max_depth: int,\n",
        "    learning_rate: float,\n",
        "    boost_rounds: int,\n",
        "    model_uri: str,\n",
        "):\n",
        "\n",
        "    custom_trainer(\n",
        "        train_uri=train_uri,\n",
        "        label_uri=label_uri,\n",
        "        max_depth=max_depth,\n",
        "        learning_rate=learning_rate,\n",
        "        boost_rounds=boost_rounds,\n",
        "        model_uri=model_uri,\n",
        "    )"
      ]
    },
    {
      "cell_type": "markdown",
      "metadata": {
        "id": "RkfZ7qVAVjBO"
      },
      "source": [
        "### Compile your pipeline into a JSON file"
      ]
    },
    {
      "cell_type": "code",
      "execution_count": 18,
      "metadata": {
        "id": "oYlLBGUSVibG"
      },
      "outputs": [],
      "source": [
        "compiler.Compiler().compile(pipeline_func=pipeline, package_path=\"pipeline.json\")"
      ]
    },
    {
      "cell_type": "markdown",
      "metadata": {
        "id": "95vG4-zPWc0B"
      },
      "source": [
        "## Submit and track pipeline runs"
      ]
    },
    {
      "cell_type": "markdown",
      "metadata": {
        "id": "ZNb6kZ2l5t-O"
      },
      "source": [
        "### Submit Pipeline runs\n",
        "\n",
        "Now that you have the pipeline, define its training configuration depending on the defined parameters. Below you have an example and how you can submit several pipeline runs."
      ]
    },
    {
      "cell_type": "code",
      "execution_count": 19,
      "metadata": {
        "id": "XPy0Jc8xXgpa"
      },
      "outputs": [],
      "source": [
        "runs = [\n",
        "    {\"max_depth\": 4, \"learning_rate\": 0.2, \"boost_rounds\": 10},\n",
        "    {\"max_depth\": 5, \"learning_rate\": 0.3, \"boost_rounds\": 20},\n",
        "    {\"max_depth\": 3, \"learning_rate\": 0.1, \"boost_rounds\": 30},\n",
        "    {\"max_depth\": 6, \"learning_rate\": 0.5, \"boost_rounds\": 40},\n",
        "    {\"max_depth\": 5, \"learning_rate\": 0.4, \"boost_rounds\": 30},\n",
        "]"
      ]
    },
    {
      "cell_type": "code",
      "execution_count": 20,
      "metadata": {
        "id": "G0hm1no_WY8o",
        "colab": {
          "base_uri": "https://localhost:8080/"
        },
        "outputId": "2ac7adee-4983-4efe-a4d6-9379ba9298d2"
      },
      "outputs": [
        {
          "output_type": "stream",
          "name": "stderr",
          "text": [
            "INFO:google.cloud.aiplatform.pipeline_jobs:Creating PipelineJob\n",
            "INFO:google.cloud.aiplatform.pipeline_jobs:PipelineJob created. Resource name: projects/848384636885/locations/us-central1/pipelineJobs/custom-training-pipeline-20240324194707\n",
            "INFO:google.cloud.aiplatform.pipeline_jobs:To use this PipelineJob in another session:\n",
            "INFO:google.cloud.aiplatform.pipeline_jobs:pipeline_job = aiplatform.PipelineJob.get('projects/848384636885/locations/us-central1/pipelineJobs/custom-training-pipeline-20240324194707')\n",
            "INFO:google.cloud.aiplatform.pipeline_jobs:View Pipeline Job:\n",
            "https://console.cloud.google.com/vertex-ai/locations/us-central1/pipelines/runs/custom-training-pipeline-20240324194707?project=848384636885\n",
            "INFO:google.cloud.aiplatform.metadata.experiment_resources:Associating projects/848384636885/locations/us-central1/pipelineJobs/custom-training-pipeline-20240324194707 to Experiment: crypto-isotope-366706-classification-xgboost-40ee80d6-ea17-11ee-994c-0242ac1c000c\n",
            "INFO:google.cloud.aiplatform.pipeline_jobs:Creating PipelineJob\n",
            "INFO:google.cloud.aiplatform.pipeline_jobs:PipelineJob created. Resource name: projects/848384636885/locations/us-central1/pipelineJobs/custom-training-pipeline-20240324194711\n",
            "INFO:google.cloud.aiplatform.pipeline_jobs:To use this PipelineJob in another session:\n",
            "INFO:google.cloud.aiplatform.pipeline_jobs:pipeline_job = aiplatform.PipelineJob.get('projects/848384636885/locations/us-central1/pipelineJobs/custom-training-pipeline-20240324194711')\n",
            "INFO:google.cloud.aiplatform.pipeline_jobs:View Pipeline Job:\n",
            "https://console.cloud.google.com/vertex-ai/locations/us-central1/pipelines/runs/custom-training-pipeline-20240324194711?project=848384636885\n",
            "INFO:google.cloud.aiplatform.metadata.experiment_resources:Associating projects/848384636885/locations/us-central1/pipelineJobs/custom-training-pipeline-20240324194711 to Experiment: crypto-isotope-366706-classification-xgboost-40ee80d6-ea17-11ee-994c-0242ac1c000c\n",
            "INFO:google.cloud.aiplatform.pipeline_jobs:Creating PipelineJob\n",
            "INFO:google.cloud.aiplatform.pipeline_jobs:PipelineJob created. Resource name: projects/848384636885/locations/us-central1/pipelineJobs/custom-training-pipeline-20240324194715\n",
            "INFO:google.cloud.aiplatform.pipeline_jobs:To use this PipelineJob in another session:\n",
            "INFO:google.cloud.aiplatform.pipeline_jobs:pipeline_job = aiplatform.PipelineJob.get('projects/848384636885/locations/us-central1/pipelineJobs/custom-training-pipeline-20240324194715')\n",
            "INFO:google.cloud.aiplatform.pipeline_jobs:View Pipeline Job:\n",
            "https://console.cloud.google.com/vertex-ai/locations/us-central1/pipelines/runs/custom-training-pipeline-20240324194715?project=848384636885\n",
            "INFO:google.cloud.aiplatform.metadata.experiment_resources:Associating projects/848384636885/locations/us-central1/pipelineJobs/custom-training-pipeline-20240324194715 to Experiment: crypto-isotope-366706-classification-xgboost-40ee80d6-ea17-11ee-994c-0242ac1c000c\n",
            "INFO:google.cloud.aiplatform.pipeline_jobs:Creating PipelineJob\n",
            "INFO:google.cloud.aiplatform.pipeline_jobs:PipelineJob created. Resource name: projects/848384636885/locations/us-central1/pipelineJobs/custom-training-pipeline-20240324194719\n",
            "INFO:google.cloud.aiplatform.pipeline_jobs:To use this PipelineJob in another session:\n",
            "INFO:google.cloud.aiplatform.pipeline_jobs:pipeline_job = aiplatform.PipelineJob.get('projects/848384636885/locations/us-central1/pipelineJobs/custom-training-pipeline-20240324194719')\n",
            "INFO:google.cloud.aiplatform.pipeline_jobs:View Pipeline Job:\n",
            "https://console.cloud.google.com/vertex-ai/locations/us-central1/pipelines/runs/custom-training-pipeline-20240324194719?project=848384636885\n",
            "INFO:google.cloud.aiplatform.metadata.experiment_resources:Associating projects/848384636885/locations/us-central1/pipelineJobs/custom-training-pipeline-20240324194719 to Experiment: crypto-isotope-366706-classification-xgboost-40ee80d6-ea17-11ee-994c-0242ac1c000c\n",
            "INFO:google.cloud.aiplatform.pipeline_jobs:Creating PipelineJob\n",
            "INFO:google.cloud.aiplatform.pipeline_jobs:PipelineJob created. Resource name: projects/848384636885/locations/us-central1/pipelineJobs/custom-training-pipeline-20240324194722\n",
            "INFO:google.cloud.aiplatform.pipeline_jobs:To use this PipelineJob in another session:\n",
            "INFO:google.cloud.aiplatform.pipeline_jobs:pipeline_job = aiplatform.PipelineJob.get('projects/848384636885/locations/us-central1/pipelineJobs/custom-training-pipeline-20240324194722')\n",
            "INFO:google.cloud.aiplatform.pipeline_jobs:View Pipeline Job:\n",
            "https://console.cloud.google.com/vertex-ai/locations/us-central1/pipelines/runs/custom-training-pipeline-20240324194722?project=848384636885\n",
            "INFO:google.cloud.aiplatform.metadata.experiment_resources:Associating projects/848384636885/locations/us-central1/pipelineJobs/custom-training-pipeline-20240324194722 to Experiment: crypto-isotope-366706-classification-xgboost-40ee80d6-ea17-11ee-994c-0242ac1c000c\n"
          ]
        }
      ],
      "source": [
        "for i, run in enumerate(runs):\n",
        "\n",
        "    job = vertex_ai.PipelineJob(\n",
        "        display_name=f\"{EXPERIMENT_NAME}-pipeline-run-{i}\",\n",
        "        template_path=PIPELINE_TEMPLATE_FILE,\n",
        "        pipeline_root=PIPELINE_URI,\n",
        "        parameter_values={\n",
        "            \"train_uri\": TRAIN_URI,\n",
        "            \"label_uri\": LABEL_URI,\n",
        "            \"model_uri\": MODEL_URI,\n",
        "            **run,\n",
        "        },\n",
        "    )\n",
        "    job.submit(experiment=EXPERIMENT_NAME)"
      ]
    },
    {
      "cell_type": "markdown",
      "metadata": {
        "id": "O8TV4q535c2M"
      },
      "source": [
        "### Check Pipeline run states\n",
        "\n",
        "Vertex AI SDK provides you `get_experiment_df` method to monitor the status of pipeline runs. You can use it either to return parameters and metrics of the Pipeline Runs in the Vertex AI Experiment or in combination with `get` method of `PipelineJob` to return the pipeline job in Vertex AI Pipeline.\n"
      ]
    },
    {
      "cell_type": "code",
      "execution_count": 21,
      "metadata": {
        "id": "dlCEJKfH5xR7",
        "colab": {
          "base_uri": "https://localhost:8080/",
          "height": 379
        },
        "outputId": "d8b46e0d-eafe-4ab1-bbac-2e5f1941fee1"
      },
      "outputs": [
        {
          "output_type": "execute_result",
          "data": {
            "text/plain": [
              "                                     experiment_name  \\\n",
              "0  crypto-isotope-366706-classification-xgboost-4...   \n",
              "1  crypto-isotope-366706-classification-xgboost-4...   \n",
              "2  crypto-isotope-366706-classification-xgboost-4...   \n",
              "3  crypto-isotope-366706-classification-xgboost-4...   \n",
              "4  crypto-isotope-366706-classification-xgboost-4...   \n",
              "\n",
              "                                  run_name            run_type    state  \\\n",
              "0  custom-training-pipeline-20240324194722  system.PipelineRun  RUNNING   \n",
              "1  custom-training-pipeline-20240324194719  system.PipelineRun  RUNNING   \n",
              "2  custom-training-pipeline-20240324194715  system.PipelineRun  RUNNING   \n",
              "3  custom-training-pipeline-20240324194711  system.PipelineRun  RUNNING   \n",
              "4  custom-training-pipeline-20240324194707  system.PipelineRun  RUNNING   \n",
              "\n",
              "   param.max_depth  param.learning_rate  \\\n",
              "0              5.0                  0.4   \n",
              "1              6.0                  0.5   \n",
              "2              3.0                  0.1   \n",
              "3              5.0                  0.3   \n",
              "4              4.0                  0.2   \n",
              "\n",
              "                                     param.label_uri  param.boost_rounds  \\\n",
              "0  gs://your-bucket-name-crypto-isotope-366706-un...                30.0   \n",
              "1  gs://your-bucket-name-crypto-isotope-366706-un...                40.0   \n",
              "2  gs://your-bucket-name-crypto-isotope-366706-un...                30.0   \n",
              "3  gs://your-bucket-name-crypto-isotope-366706-un...                20.0   \n",
              "4  gs://your-bucket-name-crypto-isotope-366706-un...                10.0   \n",
              "\n",
              "                                     param.train_uri  \\\n",
              "0  gs://your-bucket-name-crypto-isotope-366706-un...   \n",
              "1  gs://your-bucket-name-crypto-isotope-366706-un...   \n",
              "2  gs://your-bucket-name-crypto-isotope-366706-un...   \n",
              "3  gs://your-bucket-name-crypto-isotope-366706-un...   \n",
              "4  gs://your-bucket-name-crypto-isotope-366706-un...   \n",
              "\n",
              "                                     param.model_uri  \n",
              "0  gs://your-bucket-name-crypto-isotope-366706-un...  \n",
              "1  gs://your-bucket-name-crypto-isotope-366706-un...  \n",
              "2  gs://your-bucket-name-crypto-isotope-366706-un...  \n",
              "3  gs://your-bucket-name-crypto-isotope-366706-un...  \n",
              "4  gs://your-bucket-name-crypto-isotope-366706-un...  "
            ],
            "text/html": [
              "\n",
              "  <div id=\"df-411aa570-c15a-49f4-803e-71089b025352\" class=\"colab-df-container\">\n",
              "    <div>\n",
              "<style scoped>\n",
              "    .dataframe tbody tr th:only-of-type {\n",
              "        vertical-align: middle;\n",
              "    }\n",
              "\n",
              "    .dataframe tbody tr th {\n",
              "        vertical-align: top;\n",
              "    }\n",
              "\n",
              "    .dataframe thead th {\n",
              "        text-align: right;\n",
              "    }\n",
              "</style>\n",
              "<table border=\"1\" class=\"dataframe\">\n",
              "  <thead>\n",
              "    <tr style=\"text-align: right;\">\n",
              "      <th></th>\n",
              "      <th>experiment_name</th>\n",
              "      <th>run_name</th>\n",
              "      <th>run_type</th>\n",
              "      <th>state</th>\n",
              "      <th>param.max_depth</th>\n",
              "      <th>param.learning_rate</th>\n",
              "      <th>param.label_uri</th>\n",
              "      <th>param.boost_rounds</th>\n",
              "      <th>param.train_uri</th>\n",
              "      <th>param.model_uri</th>\n",
              "    </tr>\n",
              "  </thead>\n",
              "  <tbody>\n",
              "    <tr>\n",
              "      <th>0</th>\n",
              "      <td>crypto-isotope-366706-classification-xgboost-4...</td>\n",
              "      <td>custom-training-pipeline-20240324194722</td>\n",
              "      <td>system.PipelineRun</td>\n",
              "      <td>RUNNING</td>\n",
              "      <td>5.0</td>\n",
              "      <td>0.4</td>\n",
              "      <td>gs://your-bucket-name-crypto-isotope-366706-un...</td>\n",
              "      <td>30.0</td>\n",
              "      <td>gs://your-bucket-name-crypto-isotope-366706-un...</td>\n",
              "      <td>gs://your-bucket-name-crypto-isotope-366706-un...</td>\n",
              "    </tr>\n",
              "    <tr>\n",
              "      <th>1</th>\n",
              "      <td>crypto-isotope-366706-classification-xgboost-4...</td>\n",
              "      <td>custom-training-pipeline-20240324194719</td>\n",
              "      <td>system.PipelineRun</td>\n",
              "      <td>RUNNING</td>\n",
              "      <td>6.0</td>\n",
              "      <td>0.5</td>\n",
              "      <td>gs://your-bucket-name-crypto-isotope-366706-un...</td>\n",
              "      <td>40.0</td>\n",
              "      <td>gs://your-bucket-name-crypto-isotope-366706-un...</td>\n",
              "      <td>gs://your-bucket-name-crypto-isotope-366706-un...</td>\n",
              "    </tr>\n",
              "    <tr>\n",
              "      <th>2</th>\n",
              "      <td>crypto-isotope-366706-classification-xgboost-4...</td>\n",
              "      <td>custom-training-pipeline-20240324194715</td>\n",
              "      <td>system.PipelineRun</td>\n",
              "      <td>RUNNING</td>\n",
              "      <td>3.0</td>\n",
              "      <td>0.1</td>\n",
              "      <td>gs://your-bucket-name-crypto-isotope-366706-un...</td>\n",
              "      <td>30.0</td>\n",
              "      <td>gs://your-bucket-name-crypto-isotope-366706-un...</td>\n",
              "      <td>gs://your-bucket-name-crypto-isotope-366706-un...</td>\n",
              "    </tr>\n",
              "    <tr>\n",
              "      <th>3</th>\n",
              "      <td>crypto-isotope-366706-classification-xgboost-4...</td>\n",
              "      <td>custom-training-pipeline-20240324194711</td>\n",
              "      <td>system.PipelineRun</td>\n",
              "      <td>RUNNING</td>\n",
              "      <td>5.0</td>\n",
              "      <td>0.3</td>\n",
              "      <td>gs://your-bucket-name-crypto-isotope-366706-un...</td>\n",
              "      <td>20.0</td>\n",
              "      <td>gs://your-bucket-name-crypto-isotope-366706-un...</td>\n",
              "      <td>gs://your-bucket-name-crypto-isotope-366706-un...</td>\n",
              "    </tr>\n",
              "    <tr>\n",
              "      <th>4</th>\n",
              "      <td>crypto-isotope-366706-classification-xgboost-4...</td>\n",
              "      <td>custom-training-pipeline-20240324194707</td>\n",
              "      <td>system.PipelineRun</td>\n",
              "      <td>RUNNING</td>\n",
              "      <td>4.0</td>\n",
              "      <td>0.2</td>\n",
              "      <td>gs://your-bucket-name-crypto-isotope-366706-un...</td>\n",
              "      <td>10.0</td>\n",
              "      <td>gs://your-bucket-name-crypto-isotope-366706-un...</td>\n",
              "      <td>gs://your-bucket-name-crypto-isotope-366706-un...</td>\n",
              "    </tr>\n",
              "  </tbody>\n",
              "</table>\n",
              "</div>\n",
              "    <div class=\"colab-df-buttons\">\n",
              "\n",
              "  <div class=\"colab-df-container\">\n",
              "    <button class=\"colab-df-convert\" onclick=\"convertToInteractive('df-411aa570-c15a-49f4-803e-71089b025352')\"\n",
              "            title=\"Convert this dataframe to an interactive table.\"\n",
              "            style=\"display:none;\">\n",
              "\n",
              "  <svg xmlns=\"http://www.w3.org/2000/svg\" height=\"24px\" viewBox=\"0 -960 960 960\">\n",
              "    <path d=\"M120-120v-720h720v720H120Zm60-500h600v-160H180v160Zm220 220h160v-160H400v160Zm0 220h160v-160H400v160ZM180-400h160v-160H180v160Zm440 0h160v-160H620v160ZM180-180h160v-160H180v160Zm440 0h160v-160H620v160Z\"/>\n",
              "  </svg>\n",
              "    </button>\n",
              "\n",
              "  <style>\n",
              "    .colab-df-container {\n",
              "      display:flex;\n",
              "      gap: 12px;\n",
              "    }\n",
              "\n",
              "    .colab-df-convert {\n",
              "      background-color: #E8F0FE;\n",
              "      border: none;\n",
              "      border-radius: 50%;\n",
              "      cursor: pointer;\n",
              "      display: none;\n",
              "      fill: #1967D2;\n",
              "      height: 32px;\n",
              "      padding: 0 0 0 0;\n",
              "      width: 32px;\n",
              "    }\n",
              "\n",
              "    .colab-df-convert:hover {\n",
              "      background-color: #E2EBFA;\n",
              "      box-shadow: 0px 1px 2px rgba(60, 64, 67, 0.3), 0px 1px 3px 1px rgba(60, 64, 67, 0.15);\n",
              "      fill: #174EA6;\n",
              "    }\n",
              "\n",
              "    .colab-df-buttons div {\n",
              "      margin-bottom: 4px;\n",
              "    }\n",
              "\n",
              "    [theme=dark] .colab-df-convert {\n",
              "      background-color: #3B4455;\n",
              "      fill: #D2E3FC;\n",
              "    }\n",
              "\n",
              "    [theme=dark] .colab-df-convert:hover {\n",
              "      background-color: #434B5C;\n",
              "      box-shadow: 0px 1px 3px 1px rgba(0, 0, 0, 0.15);\n",
              "      filter: drop-shadow(0px 1px 2px rgba(0, 0, 0, 0.3));\n",
              "      fill: #FFFFFF;\n",
              "    }\n",
              "  </style>\n",
              "\n",
              "    <script>\n",
              "      const buttonEl =\n",
              "        document.querySelector('#df-411aa570-c15a-49f4-803e-71089b025352 button.colab-df-convert');\n",
              "      buttonEl.style.display =\n",
              "        google.colab.kernel.accessAllowed ? 'block' : 'none';\n",
              "\n",
              "      async function convertToInteractive(key) {\n",
              "        const element = document.querySelector('#df-411aa570-c15a-49f4-803e-71089b025352');\n",
              "        const dataTable =\n",
              "          await google.colab.kernel.invokeFunction('convertToInteractive',\n",
              "                                                    [key], {});\n",
              "        if (!dataTable) return;\n",
              "\n",
              "        const docLinkHtml = 'Like what you see? Visit the ' +\n",
              "          '<a target=\"_blank\" href=https://colab.research.google.com/notebooks/data_table.ipynb>data table notebook</a>'\n",
              "          + ' to learn more about interactive tables.';\n",
              "        element.innerHTML = '';\n",
              "        dataTable['output_type'] = 'display_data';\n",
              "        await google.colab.output.renderOutput(dataTable, element);\n",
              "        const docLink = document.createElement('div');\n",
              "        docLink.innerHTML = docLinkHtml;\n",
              "        element.appendChild(docLink);\n",
              "      }\n",
              "    </script>\n",
              "  </div>\n",
              "\n",
              "\n",
              "<div id=\"df-5dc7737c-2210-4201-a0cd-25316ea582aa\">\n",
              "  <button class=\"colab-df-quickchart\" onclick=\"quickchart('df-5dc7737c-2210-4201-a0cd-25316ea582aa')\"\n",
              "            title=\"Suggest charts\"\n",
              "            style=\"display:none;\">\n",
              "\n",
              "<svg xmlns=\"http://www.w3.org/2000/svg\" height=\"24px\"viewBox=\"0 0 24 24\"\n",
              "     width=\"24px\">\n",
              "    <g>\n",
              "        <path d=\"M19 3H5c-1.1 0-2 .9-2 2v14c0 1.1.9 2 2 2h14c1.1 0 2-.9 2-2V5c0-1.1-.9-2-2-2zM9 17H7v-7h2v7zm4 0h-2V7h2v10zm4 0h-2v-4h2v4z\"/>\n",
              "    </g>\n",
              "</svg>\n",
              "  </button>\n",
              "\n",
              "<style>\n",
              "  .colab-df-quickchart {\n",
              "      --bg-color: #E8F0FE;\n",
              "      --fill-color: #1967D2;\n",
              "      --hover-bg-color: #E2EBFA;\n",
              "      --hover-fill-color: #174EA6;\n",
              "      --disabled-fill-color: #AAA;\n",
              "      --disabled-bg-color: #DDD;\n",
              "  }\n",
              "\n",
              "  [theme=dark] .colab-df-quickchart {\n",
              "      --bg-color: #3B4455;\n",
              "      --fill-color: #D2E3FC;\n",
              "      --hover-bg-color: #434B5C;\n",
              "      --hover-fill-color: #FFFFFF;\n",
              "      --disabled-bg-color: #3B4455;\n",
              "      --disabled-fill-color: #666;\n",
              "  }\n",
              "\n",
              "  .colab-df-quickchart {\n",
              "    background-color: var(--bg-color);\n",
              "    border: none;\n",
              "    border-radius: 50%;\n",
              "    cursor: pointer;\n",
              "    display: none;\n",
              "    fill: var(--fill-color);\n",
              "    height: 32px;\n",
              "    padding: 0;\n",
              "    width: 32px;\n",
              "  }\n",
              "\n",
              "  .colab-df-quickchart:hover {\n",
              "    background-color: var(--hover-bg-color);\n",
              "    box-shadow: 0 1px 2px rgba(60, 64, 67, 0.3), 0 1px 3px 1px rgba(60, 64, 67, 0.15);\n",
              "    fill: var(--button-hover-fill-color);\n",
              "  }\n",
              "\n",
              "  .colab-df-quickchart-complete:disabled,\n",
              "  .colab-df-quickchart-complete:disabled:hover {\n",
              "    background-color: var(--disabled-bg-color);\n",
              "    fill: var(--disabled-fill-color);\n",
              "    box-shadow: none;\n",
              "  }\n",
              "\n",
              "  .colab-df-spinner {\n",
              "    border: 2px solid var(--fill-color);\n",
              "    border-color: transparent;\n",
              "    border-bottom-color: var(--fill-color);\n",
              "    animation:\n",
              "      spin 1s steps(1) infinite;\n",
              "  }\n",
              "\n",
              "  @keyframes spin {\n",
              "    0% {\n",
              "      border-color: transparent;\n",
              "      border-bottom-color: var(--fill-color);\n",
              "      border-left-color: var(--fill-color);\n",
              "    }\n",
              "    20% {\n",
              "      border-color: transparent;\n",
              "      border-left-color: var(--fill-color);\n",
              "      border-top-color: var(--fill-color);\n",
              "    }\n",
              "    30% {\n",
              "      border-color: transparent;\n",
              "      border-left-color: var(--fill-color);\n",
              "      border-top-color: var(--fill-color);\n",
              "      border-right-color: var(--fill-color);\n",
              "    }\n",
              "    40% {\n",
              "      border-color: transparent;\n",
              "      border-right-color: var(--fill-color);\n",
              "      border-top-color: var(--fill-color);\n",
              "    }\n",
              "    60% {\n",
              "      border-color: transparent;\n",
              "      border-right-color: var(--fill-color);\n",
              "    }\n",
              "    80% {\n",
              "      border-color: transparent;\n",
              "      border-right-color: var(--fill-color);\n",
              "      border-bottom-color: var(--fill-color);\n",
              "    }\n",
              "    90% {\n",
              "      border-color: transparent;\n",
              "      border-bottom-color: var(--fill-color);\n",
              "    }\n",
              "  }\n",
              "</style>\n",
              "\n",
              "  <script>\n",
              "    async function quickchart(key) {\n",
              "      const quickchartButtonEl =\n",
              "        document.querySelector('#' + key + ' button');\n",
              "      quickchartButtonEl.disabled = true;  // To prevent multiple clicks.\n",
              "      quickchartButtonEl.classList.add('colab-df-spinner');\n",
              "      try {\n",
              "        const charts = await google.colab.kernel.invokeFunction(\n",
              "            'suggestCharts', [key], {});\n",
              "      } catch (error) {\n",
              "        console.error('Error during call to suggestCharts:', error);\n",
              "      }\n",
              "      quickchartButtonEl.classList.remove('colab-df-spinner');\n",
              "      quickchartButtonEl.classList.add('colab-df-quickchart-complete');\n",
              "    }\n",
              "    (() => {\n",
              "      let quickchartButtonEl =\n",
              "        document.querySelector('#df-5dc7737c-2210-4201-a0cd-25316ea582aa button');\n",
              "      quickchartButtonEl.style.display =\n",
              "        google.colab.kernel.accessAllowed ? 'block' : 'none';\n",
              "    })();\n",
              "  </script>\n",
              "</div>\n",
              "    </div>\n",
              "  </div>\n"
            ],
            "application/vnd.google.colaboratory.intrinsic+json": {
              "type": "dataframe",
              "summary": "{\n  \"name\": \"vertex_ai\",\n  \"rows\": 5,\n  \"fields\": [\n    {\n      \"column\": \"experiment_name\",\n      \"properties\": {\n        \"dtype\": \"category\",\n        \"num_unique_values\": 1,\n        \"samples\": [\n          \"crypto-isotope-366706-classification-xgboost-40ee80d6-ea17-11ee-994c-0242ac1c000c\"\n        ],\n        \"semantic_type\": \"\",\n        \"description\": \"\"\n      }\n    },\n    {\n      \"column\": \"run_name\",\n      \"properties\": {\n        \"dtype\": \"string\",\n        \"num_unique_values\": 5,\n        \"samples\": [\n          \"custom-training-pipeline-20240324194719\"\n        ],\n        \"semantic_type\": \"\",\n        \"description\": \"\"\n      }\n    },\n    {\n      \"column\": \"run_type\",\n      \"properties\": {\n        \"dtype\": \"category\",\n        \"num_unique_values\": 1,\n        \"samples\": [\n          \"system.PipelineRun\"\n        ],\n        \"semantic_type\": \"\",\n        \"description\": \"\"\n      }\n    },\n    {\n      \"column\": \"state\",\n      \"properties\": {\n        \"dtype\": \"category\",\n        \"num_unique_values\": 1,\n        \"samples\": [\n          \"RUNNING\"\n        ],\n        \"semantic_type\": \"\",\n        \"description\": \"\"\n      }\n    },\n    {\n      \"column\": \"param.max_depth\",\n      \"properties\": {\n        \"dtype\": \"number\",\n        \"std\": 1.1401754250991378,\n        \"min\": 3.0,\n        \"max\": 6.0,\n        \"num_unique_values\": 4,\n        \"samples\": [\n          6.0\n        ],\n        \"semantic_type\": \"\",\n        \"description\": \"\"\n      }\n    },\n    {\n      \"column\": \"param.learning_rate\",\n      \"properties\": {\n        \"dtype\": \"number\",\n        \"std\": 0.15811388300841897,\n        \"min\": 0.1,\n        \"max\": 0.5,\n        \"num_unique_values\": 5,\n        \"samples\": [\n          0.5\n        ],\n        \"semantic_type\": \"\",\n        \"description\": \"\"\n      }\n    },\n    {\n      \"column\": \"param.label_uri\",\n      \"properties\": {\n        \"dtype\": \"category\",\n        \"num_unique_values\": 1,\n        \"samples\": [\n          \"gs://your-bucket-name-crypto-isotope-366706-unique/iris/iris_target.csv\"\n        ],\n        \"semantic_type\": \"\",\n        \"description\": \"\"\n      }\n    },\n    {\n      \"column\": \"param.boost_rounds\",\n      \"properties\": {\n        \"dtype\": \"number\",\n        \"std\": 11.40175425099138,\n        \"min\": 10.0,\n        \"max\": 40.0,\n        \"num_unique_values\": 4,\n        \"samples\": [\n          40.0\n        ],\n        \"semantic_type\": \"\",\n        \"description\": \"\"\n      }\n    },\n    {\n      \"column\": \"param.train_uri\",\n      \"properties\": {\n        \"dtype\": \"category\",\n        \"num_unique_values\": 1,\n        \"samples\": [\n          \"gs://your-bucket-name-crypto-isotope-366706-unique/iris/iris_data.csv\"\n        ],\n        \"semantic_type\": \"\",\n        \"description\": \"\"\n      }\n    },\n    {\n      \"column\": \"param.model_uri\",\n      \"properties\": {\n        \"dtype\": \"category\",\n        \"num_unique_values\": 1,\n        \"samples\": [\n          \"gs://your-bucket-name-crypto-isotope-366706-unique/model\"\n        ],\n        \"semantic_type\": \"\",\n        \"description\": \"\"\n      }\n    }\n  ]\n}"
            }
          },
          "metadata": {},
          "execution_count": 21
        }
      ],
      "source": [
        "# see state of all pipelineJob\n",
        "vertex_ai.get_experiment_df(EXPERIMENT_NAME)"
      ]
    },
    {
      "cell_type": "markdown",
      "metadata": {
        "id": "98c022ca36b4"
      },
      "source": [
        "The pipeline runs in the Vertex AI Experiment is monitored based on pipeline run status."
      ]
    },
    {
      "cell_type": "code",
      "execution_count": 22,
      "metadata": {
        "id": "FA9W85vs7LLD",
        "colab": {
          "base_uri": "https://localhost:8080/"
        },
        "outputId": "e73d434c-79e9-4ee6-8514-f433e1421fee"
      },
      "outputs": [
        {
          "output_type": "stream",
          "name": "stdout",
          "text": [
            "Pipeline runs are still running...\n",
            "Pipeline runs are still running...\n",
            "Pipeline runs are still running...\n",
            "Pipeline experiment runs have completed\n"
          ]
        }
      ],
      "source": [
        "while True:\n",
        "    pipeline_experiments_df = vertex_ai.get_experiment_df(EXPERIMENT_NAME)\n",
        "    if any(\n",
        "        pipeline_state != \"COMPLETE\" for pipeline_state in pipeline_experiments_df.state\n",
        "    ):\n",
        "        print(\"Pipeline runs are still running...\")\n",
        "        if any(\n",
        "            pipeline_state == \"FAILED\"\n",
        "            for pipeline_state in pipeline_experiments_df.state\n",
        "        ):\n",
        "            print(\"At least one Pipeline run failed\")\n",
        "            break\n",
        "    else:\n",
        "        print(\"Pipeline experiment runs have completed\")\n",
        "        break\n",
        "    time.sleep(60)"
      ]
    },
    {
      "cell_type": "code",
      "execution_count": 23,
      "metadata": {
        "id": "ISsK9Msi-Kqs",
        "colab": {
          "base_uri": "https://localhost:8080/"
        },
        "outputId": "1763708c-63dc-4471-c706-2d83a5bd02a8"
      },
      "outputs": [
        {
          "output_type": "stream",
          "name": "stdout",
          "text": [
            "Pipeline job name:  projects/848384636885/locations/us-central1/pipelineJobs/custom-training-pipeline-20240324194722\n",
            "Pipeline Run UI link:  https://console.cloud.google.com/vertex-ai/locations/us-central1/pipelines/runs/custom-training-pipeline-20240324194722?project=848384636885\n"
          ]
        }
      ],
      "source": [
        "# Get the PipelineJob resource using the experiment run name\n",
        "pipeline_experiments_df = vertex_ai.get_experiment_df(EXPERIMENT_NAME)\n",
        "job = vertex_ai.PipelineJob.get(pipeline_experiments_df.run_name[0])\n",
        "print(\"Pipeline job name: \", job.resource_name)\n",
        "print(\"Pipeline Run UI link: \", job._dashboard_uri())"
      ]
    },
    {
      "cell_type": "markdown",
      "metadata": {
        "id": "TpV-iwP9qw9c"
      },
      "source": [
        "## Cleaning up\n",
        "\n",
        "To clean up all Google Cloud resources used in this project, you can [delete the Google Cloud\n",
        "project](https://cloud.google.com/resource-manager/docs/creating-managing-projects#shutting_down_projects) you used for the tutorial.\n",
        "\n",
        "Otherwise, you can delete the individual resources you created in this tutorial"
      ]
    },
    {
      "cell_type": "code",
      "execution_count": 24,
      "metadata": {
        "id": "6xbYQn5t5Noe",
        "colab": {
          "base_uri": "https://localhost:8080/"
        },
        "outputId": "b4771513-63c3-41ef-933e-40f6048ed0d8"
      },
      "outputs": [
        {
          "output_type": "stream",
          "name": "stderr",
          "text": [
            "INFO:google.cloud.aiplatform.base:Deleting PipelineJob : projects/848384636885/locations/us-central1/pipelineJobs/custom-training-pipeline-20240324194722\n"
          ]
        },
        {
          "output_type": "stream",
          "name": "stdout",
          "text": [
            "Pipeline job is complete.\n"
          ]
        },
        {
          "output_type": "stream",
          "name": "stderr",
          "text": [
            "INFO:google.cloud.aiplatform.base:Delete PipelineJob  backing LRO: projects/848384636885/locations/us-central1/operations/1285255459950821376\n",
            "INFO:google.cloud.aiplatform.base:PipelineJob deleted. . Resource name: projects/848384636885/locations/us-central1/pipelineJobs/custom-training-pipeline-20240324194722\n",
            "INFO:google.cloud.aiplatform.base:Deleting PipelineJob : projects/848384636885/locations/us-central1/pipelineJobs/custom-training-pipeline-20240324194719\n"
          ]
        },
        {
          "output_type": "stream",
          "name": "stdout",
          "text": [
            "Pipeline job is complete.\n"
          ]
        },
        {
          "output_type": "stream",
          "name": "stderr",
          "text": [
            "INFO:google.cloud.aiplatform.base:Delete PipelineJob  backing LRO: projects/848384636885/locations/us-central1/operations/481362926465187840\n",
            "INFO:google.cloud.aiplatform.base:PipelineJob deleted. . Resource name: projects/848384636885/locations/us-central1/pipelineJobs/custom-training-pipeline-20240324194719\n",
            "INFO:google.cloud.aiplatform.base:Deleting PipelineJob : projects/848384636885/locations/us-central1/pipelineJobs/custom-training-pipeline-20240324194715\n"
          ]
        },
        {
          "output_type": "stream",
          "name": "stdout",
          "text": [
            "Pipeline job is complete.\n"
          ]
        },
        {
          "output_type": "stream",
          "name": "stderr",
          "text": [
            "INFO:google.cloud.aiplatform.base:Delete PipelineJob  backing LRO: projects/848384636885/locations/us-central1/operations/5093048944892575744\n",
            "INFO:google.cloud.aiplatform.base:PipelineJob deleted. . Resource name: projects/848384636885/locations/us-central1/pipelineJobs/custom-training-pipeline-20240324194715\n",
            "INFO:google.cloud.aiplatform.base:Deleting PipelineJob : projects/848384636885/locations/us-central1/pipelineJobs/custom-training-pipeline-20240324194711\n"
          ]
        },
        {
          "output_type": "stream",
          "name": "stdout",
          "text": [
            "Pipeline job is complete.\n"
          ]
        },
        {
          "output_type": "stream",
          "name": "stderr",
          "text": [
            "INFO:google.cloud.aiplatform.base:Delete PipelineJob  backing LRO: projects/848384636885/locations/us-central1/operations/5896941478378209280\n",
            "INFO:google.cloud.aiplatform.base:PipelineJob deleted. . Resource name: projects/848384636885/locations/us-central1/pipelineJobs/custom-training-pipeline-20240324194711\n",
            "INFO:google.cloud.aiplatform.base:Deleting PipelineJob : projects/848384636885/locations/us-central1/pipelineJobs/custom-training-pipeline-20240324194707\n"
          ]
        },
        {
          "output_type": "stream",
          "name": "stdout",
          "text": [
            "Pipeline job is complete.\n"
          ]
        },
        {
          "output_type": "stream",
          "name": "stderr",
          "text": [
            "INFO:google.cloud.aiplatform.base:Delete PipelineJob  backing LRO: projects/848384636885/locations/us-central1/operations/1319032457156100096\n",
            "INFO:google.cloud.aiplatform.base:PipelineJob deleted. . Resource name: projects/848384636885/locations/us-central1/pipelineJobs/custom-training-pipeline-20240324194707\n",
            "INFO:google.cloud.aiplatform.base:Deleting Context : projects/848384636885/locations/us-central1/metadataStores/default/contexts/crypto-isotope-366706-classification-xgboost-40ee80d6-ea17-11ee-994c-0242ac1c000c\n",
            "INFO:google.cloud.aiplatform.base:Delete Context  backing LRO: projects/848384636885/locations/us-central1/metadataStores/default/contexts/crypto-isotope-366706-classification-xgboost-40ee80d6-ea17-11ee-994c-0242ac1c000c/operations/9151636634083524608\n",
            "INFO:google.cloud.aiplatform.base:Context deleted. . Resource name: projects/848384636885/locations/us-central1/metadataStores/default/contexts/crypto-isotope-366706-classification-xgboost-40ee80d6-ea17-11ee-994c-0242ac1c000c\n"
          ]
        }
      ],
      "source": [
        "# Delete the pipeline\n",
        "while True:\n",
        "    for i in range(0, len(runs)):\n",
        "        pipeline_job = vertex_ai.PipelineJob.get(pipeline_experiments_df.run_name[i])\n",
        "        if pipeline_job.state != PipelineState.PIPELINE_STATE_SUCCEEDED:\n",
        "            print(\"Pipeline job is still running...\")\n",
        "            time.sleep(60)\n",
        "        else:\n",
        "            print(\"Pipeline job is complete.\")\n",
        "            pipeline_job.delete()\n",
        "    break\n",
        "\n",
        "# Delete experiment\n",
        "exp = vertex_ai.Experiment(EXPERIMENT_NAME)\n",
        "exp.delete()\n",
        "\n",
        "# Delete bucket\n",
        "delete_bucket = False\n",
        "if delete_bucket or os.getenv(\"IS_TESTING\"):\n",
        "    ! gsutil rm -rf {BUCKET_URI}\n",
        "\n",
        "# Remove local files\n",
        "\n",
        "!rm {PIPELINE_TEMPLATE_FILE}"
      ]
    },
    {
      "cell_type": "code",
      "source": [],
      "metadata": {
        "id": "5TZRjqIACGrm"
      },
      "execution_count": null,
      "outputs": []
    }
  ],
  "metadata": {
    "colab": {
      "toc_visible": true,
      "provenance": []
    },
    "kernelspec": {
      "display_name": "Python 3",
      "name": "python3"
    }
  },
  "nbformat": 4,
  "nbformat_minor": 0
}